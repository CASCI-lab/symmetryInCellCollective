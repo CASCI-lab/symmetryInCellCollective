{
 "cells": [
  {
   "cell_type": "code",
   "execution_count": 1,
   "id": "7a7fe992",
   "metadata": {},
   "outputs": [],
   "source": [
    "import pandas as pd\n",
    "import seaborn as sns\n",
    "from matplotlib import pyplot as plt\n",
    "import numpy as np\n",
    "from data_analysis import *"
   ]
  },
  {
   "cell_type": "code",
   "execution_count": 2,
   "id": "56789aa7",
   "metadata": {},
   "outputs": [],
   "source": [
    "dataRng = loadDataRng()\n",
    "dataCC = loadDataCC()"
   ]
  },
  {
   "cell_type": "code",
   "execution_count": 70,
   "id": "bb0d0dc5",
   "metadata": {},
   "outputs": [],
   "source": [
    "def computeError(data, version):\n",
    "    NumUniqFuncs = len(data[(data[\"version\"]==version) & (data[\"timeout\"]==False)].drop_duplicates(subset=\"func\"))\n",
    "    numWrong = len( data[(data[\"version\"]==version) & (data[\"correct\"]==False) & (data[\"timeout\"]==False)].drop_duplicates(subset=\"func\") )\n",
    "    return NumUniqFuncs, numWrong, numWrong/NumUniqFuncs"
   ]
  },
  {
   "cell_type": "code",
   "execution_count": 71,
   "id": "d988f32b",
   "metadata": {},
   "outputs": [
    {
     "data": {
      "text/plain": [
       "(1755, 932, 0.531054131054131)"
      ]
     },
     "execution_count": 71,
     "metadata": {},
     "output_type": "execute_result"
    }
   ],
   "source": [
    "computeError(dataRng, \"v0.1.2\")"
   ]
  },
  {
   "cell_type": "code",
   "execution_count": 72,
   "id": "95a21be3",
   "metadata": {},
   "outputs": [
    {
     "data": {
      "text/plain": [
       "(1943, 0, 0.0)"
      ]
     },
     "execution_count": 72,
     "metadata": {},
     "output_type": "execute_result"
    }
   ],
   "source": [
    "computeError(dataRng, \"new\")"
   ]
  },
  {
   "cell_type": "code",
   "execution_count": 73,
   "id": "24246238",
   "metadata": {},
   "outputs": [
    {
     "data": {
      "text/plain": [
       "(491, 58, 0.11812627291242363)"
      ]
     },
     "execution_count": 73,
     "metadata": {},
     "output_type": "execute_result"
    }
   ],
   "source": [
    "computeError(dataCC, \"v0.1.2\")"
   ]
  },
  {
   "cell_type": "code",
   "execution_count": 74,
   "id": "e66e431a",
   "metadata": {},
   "outputs": [
    {
     "data": {
      "text/plain": [
       "(480, 0, 0.0)"
      ]
     },
     "execution_count": 74,
     "metadata": {},
     "output_type": "execute_result"
    }
   ],
   "source": [
    "computeError(dataCC, \"new\")"
   ]
  },
  {
   "cell_type": "code",
   "execution_count": 79,
   "id": "d8226ab6",
   "metadata": {},
   "outputs": [],
   "source": [
    "def countFuncsWithBothInGroup(funcs):\n",
    "    \"\"\"\n",
    "        funcs = list of TSS (lists, not raw strings)\n",
    "    \"\"\"\n",
    "    numFuncsWithBoth = 0\n",
    "    for func in funcs:\n",
    "        func = func[0] + func[1] # flatten because two outputs of function (0, 1)\n",
    "        oneInFunc = False # flag to exit when one is found in any group\n",
    "        for tss in func:\n",
    "            if oneInFunc:\n",
    "                break\n",
    "            for bubGroup in tss[1]:\n",
    "                extract = [tss[0][int(i)] for i in bubGroup] # extract symbols denoted by bubbles\n",
    "                if \"0\" in extract and \"1\" in extract: # count when 0 and 1 are swapped by the group\n",
    "                    numFuncsWithBoth += 1\n",
    "                    oneInFunc = True\n",
    "                    break\n",
    "    return len(funcs), numFuncsWithBoth, numFuncsWithBoth/len(funcs)"
   ]
  },
  {
   "cell_type": "code",
   "execution_count": 80,
   "id": "281ba97e",
   "metadata": {},
   "outputs": [
    {
     "data": {
      "text/plain": [
       "(480, 11, 0.022916666666666665)"
      ]
     },
     "execution_count": 80,
     "metadata": {},
     "output_type": "execute_result"
    }
   ],
   "source": [
    "tsss = dataCC[dataCC[\"version\"]==\"new\"].drop_duplicates(subset=\"func\")[\"tss\"].dropna()\n",
    "tsss = [eval(tsss.iloc[i]) for i in range(len(tsss))]\n",
    "countFuncsWithBothInGroup(tsss)"
   ]
  },
  {
   "cell_type": "code",
   "execution_count": 81,
   "id": "3356269a",
   "metadata": {},
   "outputs": [
    {
     "data": {
      "text/plain": [
       "(1943, 1304, 0.6711271230056614)"
      ]
     },
     "execution_count": 81,
     "metadata": {},
     "output_type": "execute_result"
    }
   ],
   "source": [
    "tsss = dataRng[dataRng[\"version\"]==\"new\"].drop_duplicates(subset=\"func\")[\"tss\"].dropna()\n",
    "tsss = [eval(tsss.iloc[i]) for i in range(len(tsss))]\n",
    "countFuncsWithBothInGroup(tsss)"
   ]
  },
  {
   "cell_type": "code",
   "execution_count": null,
   "id": "a2634cd7",
   "metadata": {},
   "outputs": [],
   "source": []
  }
 ],
 "metadata": {
  "kernelspec": {
   "display_name": "Python 3 (ipykernel)",
   "language": "python",
   "name": "python3"
  },
  "language_info": {
   "codemirror_mode": {
    "name": "ipython",
    "version": 3
   },
   "file_extension": ".py",
   "mimetype": "text/x-python",
   "name": "python",
   "nbconvert_exporter": "python",
   "pygments_lexer": "ipython3",
   "version": "3.9.0"
  }
 },
 "nbformat": 4,
 "nbformat_minor": 5
}
